{
 "cells": [
  {
   "cell_type": "code",
   "execution_count": 5,
   "id": "91a1a20f-2d8f-42a0-bf77-6cf3f33361e2",
   "metadata": {},
   "outputs": [],
   "source": [
    "## Q No. 1 :\n",
    "import pandas as pd\n",
    "course_name = ['Data Science', 'Machine Learning', 'Big Data', 'Data Engineer']\n",
    "duration = [2,3,6,4]\n",
    "df = pd.DataFrame(data = {'course_name' : course_name, 'duration' : duration})"
   ]
  },
  {
   "cell_type": "code",
   "execution_count": 4,
   "id": "1d6a2c5c-fa90-44e8-aa35-ab9df1ef07fd",
   "metadata": {},
   "outputs": [
    {
     "data": {
      "text/html": [
       "<div>\n",
       "<style scoped>\n",
       "    .dataframe tbody tr th:only-of-type {\n",
       "        vertical-align: middle;\n",
       "    }\n",
       "\n",
       "    .dataframe tbody tr th {\n",
       "        vertical-align: top;\n",
       "    }\n",
       "\n",
       "    .dataframe thead th {\n",
       "        text-align: right;\n",
       "    }\n",
       "</style>\n",
       "<table border=\"1\" class=\"dataframe\">\n",
       "  <thead>\n",
       "    <tr style=\"text-align: right;\">\n",
       "      <th></th>\n",
       "      <th>course_name</th>\n",
       "      <th>duration</th>\n",
       "    </tr>\n",
       "  </thead>\n",
       "  <tbody>\n",
       "    <tr>\n",
       "      <th>0</th>\n",
       "      <td>Data Science</td>\n",
       "      <td>2</td>\n",
       "    </tr>\n",
       "    <tr>\n",
       "      <th>1</th>\n",
       "      <td>Machine Learning</td>\n",
       "      <td>3</td>\n",
       "    </tr>\n",
       "    <tr>\n",
       "      <th>2</th>\n",
       "      <td>Big Data</td>\n",
       "      <td>6</td>\n",
       "    </tr>\n",
       "    <tr>\n",
       "      <th>3</th>\n",
       "      <td>Data Engineer</td>\n",
       "      <td>4</td>\n",
       "    </tr>\n",
       "  </tbody>\n",
       "</table>\n",
       "</div>"
      ],
      "text/plain": [
       "        course_name  duration\n",
       "0      Data Science         2\n",
       "1  Machine Learning         3\n",
       "2          Big Data         6\n",
       "3     Data Engineer         4"
      ]
     },
     "execution_count": 4,
     "metadata": {},
     "output_type": "execute_result"
    }
   ],
   "source": [
    "df"
   ]
  },
  {
   "cell_type": "code",
   "execution_count": 21,
   "id": "3d09021a-ed9d-4d42-bcb8-1e607d88ee13",
   "metadata": {},
   "outputs": [
    {
     "data": {
      "text/plain": [
       "course_name    Machine Learning\n",
       "duration                      3\n",
       "Name: 1, dtype: object"
      ]
     },
     "execution_count": 21,
     "metadata": {},
     "output_type": "execute_result"
    }
   ],
   "source": [
    "df.iloc[1]"
   ]
  },
  {
   "cell_type": "code",
   "execution_count": 22,
   "id": "e5df765e-ba4d-453d-97d9-be9d40429894",
   "metadata": {},
   "outputs": [
    {
     "data": {
      "text/plain": [
       "'\\nPython Loc(0 function\\nThe loc() function is label based data selecting method which means that we have to pass the name\\nof the row or column which we want to select.\\n\\nPython iloc() function\\nThe iloc() function is an indexed-based selecting method which means that we have to pass an integer\\nindex in the method to select a specific row/column. \\n'"
      ]
     },
     "execution_count": 22,
     "metadata": {},
     "output_type": "execute_result"
    }
   ],
   "source": [
    "## Q No. 2 :\n",
    "'''\n",
    "Python Loc(0 function\n",
    "The loc() function is label based data selecting method which means that we have to pass the name\n",
    "of the row or column which we want to select.\n",
    "\n",
    "Python iloc() function\n",
    "The iloc() function is an indexed-based selecting method which means that we have to pass an integer\n",
    "index in the method to select a specific row/column. \n",
    "'''"
   ]
  },
  {
   "cell_type": "code",
   "execution_count": 2,
   "id": "b36d46df-67d2-4862-a1a5-5130096e61f8",
   "metadata": {},
   "outputs": [
    {
     "name": "stdout",
     "output_type": "stream",
     "text": [
      "A    300\n",
      "B     70\n",
      "Name: 2, dtype: int64\n",
      "A    200\n",
      "B     60\n",
      "Name: 1, dtype: int64\n"
     ]
    }
   ],
   "source": [
    "## Q No. 3 :\n",
    "import pandas as pd\n",
    "\n",
    "# Given DataFrame\n",
    "df = pd.DataFrame({'A': [100, 200, 300, 400], 'B': [50, 60, 70, 80]})\n",
    "\n",
    "# Reindexing using the variable reindex = [3, 0, 1, 2]\n",
    "reindex = [3, 0, 1, 2]\n",
    "new_df = df.reindex(reindex)\n",
    "\n",
    "# Accessing the rows using loc and iloc\n",
    "print(new_df.loc[2])\n",
    "print(new_df.iloc[2])"
   ]
  },
  {
   "cell_type": "code",
   "execution_count": 30,
   "id": "257260c4-3a9b-40cc-bd40-b67f4809e7b4",
   "metadata": {},
   "outputs": [],
   "source": [
    "# clearly,there is a difference that iloc() function takes inbuilt index while loc() takes visual values."
   ]
  },
  {
   "cell_type": "code",
   "execution_count": 7,
   "id": "2b7d61df-f0fd-43b0-9963-e00c895cc258",
   "metadata": {},
   "outputs": [],
   "source": [
    "## Q NO. 4 :\n",
    "import pandas as pd\n",
    "import numpy as np\n",
    "columns = ['column_1', 'column_2', 'column_3', 'column_4', 'column_5', 'column_6']\n",
    "indices = [1,2,3,4,5,6]\n",
    "#Creating a dataframe:\n",
    "df1 = pd.DataFrame(np.random.rand(6,6), columns = columns, index = indices)"
   ]
  },
  {
   "cell_type": "code",
   "execution_count": 8,
   "id": "b57ebbc4-80ad-4b20-9e9e-422188a5e002",
   "metadata": {},
   "outputs": [
    {
     "data": {
      "text/html": [
       "<div>\n",
       "<style scoped>\n",
       "    .dataframe tbody tr th:only-of-type {\n",
       "        vertical-align: middle;\n",
       "    }\n",
       "\n",
       "    .dataframe tbody tr th {\n",
       "        vertical-align: top;\n",
       "    }\n",
       "\n",
       "    .dataframe thead th {\n",
       "        text-align: right;\n",
       "    }\n",
       "</style>\n",
       "<table border=\"1\" class=\"dataframe\">\n",
       "  <thead>\n",
       "    <tr style=\"text-align: right;\">\n",
       "      <th></th>\n",
       "      <th>column_1</th>\n",
       "      <th>column_2</th>\n",
       "      <th>column_3</th>\n",
       "      <th>column_4</th>\n",
       "      <th>column_5</th>\n",
       "      <th>column_6</th>\n",
       "    </tr>\n",
       "  </thead>\n",
       "  <tbody>\n",
       "    <tr>\n",
       "      <th>1</th>\n",
       "      <td>0.459038</td>\n",
       "      <td>0.833433</td>\n",
       "      <td>0.405285</td>\n",
       "      <td>0.044914</td>\n",
       "      <td>0.468853</td>\n",
       "      <td>0.131233</td>\n",
       "    </tr>\n",
       "    <tr>\n",
       "      <th>2</th>\n",
       "      <td>0.531965</td>\n",
       "      <td>0.557454</td>\n",
       "      <td>0.152979</td>\n",
       "      <td>0.078284</td>\n",
       "      <td>0.386090</td>\n",
       "      <td>0.953473</td>\n",
       "    </tr>\n",
       "    <tr>\n",
       "      <th>3</th>\n",
       "      <td>0.379389</td>\n",
       "      <td>0.830859</td>\n",
       "      <td>0.268149</td>\n",
       "      <td>0.737422</td>\n",
       "      <td>0.102123</td>\n",
       "      <td>0.322998</td>\n",
       "    </tr>\n",
       "    <tr>\n",
       "      <th>4</th>\n",
       "      <td>0.598207</td>\n",
       "      <td>0.129920</td>\n",
       "      <td>0.790049</td>\n",
       "      <td>0.812220</td>\n",
       "      <td>0.531623</td>\n",
       "      <td>0.159538</td>\n",
       "    </tr>\n",
       "    <tr>\n",
       "      <th>5</th>\n",
       "      <td>0.736320</td>\n",
       "      <td>0.602665</td>\n",
       "      <td>0.548307</td>\n",
       "      <td>0.004976</td>\n",
       "      <td>0.651212</td>\n",
       "      <td>0.402308</td>\n",
       "    </tr>\n",
       "    <tr>\n",
       "      <th>6</th>\n",
       "      <td>0.092490</td>\n",
       "      <td>0.542740</td>\n",
       "      <td>0.858069</td>\n",
       "      <td>0.651771</td>\n",
       "      <td>0.504436</td>\n",
       "      <td>0.585850</td>\n",
       "    </tr>\n",
       "  </tbody>\n",
       "</table>\n",
       "</div>"
      ],
      "text/plain": [
       "   column_1  column_2  column_3  column_4  column_5  column_6\n",
       "1  0.459038  0.833433  0.405285  0.044914  0.468853  0.131233\n",
       "2  0.531965  0.557454  0.152979  0.078284  0.386090  0.953473\n",
       "3  0.379389  0.830859  0.268149  0.737422  0.102123  0.322998\n",
       "4  0.598207  0.129920  0.790049  0.812220  0.531623  0.159538\n",
       "5  0.736320  0.602665  0.548307  0.004976  0.651212  0.402308\n",
       "6  0.092490  0.542740  0.858069  0.651771  0.504436  0.585850"
      ]
     },
     "execution_count": 8,
     "metadata": {},
     "output_type": "execute_result"
    }
   ],
   "source": [
    "df1"
   ]
  },
  {
   "cell_type": "code",
   "execution_count": 78,
   "id": "434f95ed-7751-4d2c-a520-0cb242c9ecdc",
   "metadata": {},
   "outputs": [
    {
     "data": {
      "text/plain": [
       "0.8186465444298464"
      ]
     },
     "execution_count": 78,
     "metadata": {},
     "output_type": "execute_result"
    }
   ],
   "source": [
    "df1[\"column_1\"].mean()"
   ]
  },
  {
   "cell_type": "code",
   "execution_count": 41,
   "id": "7a40819d-2e86-4525-93f5-f2d0b4711aa8",
   "metadata": {},
   "outputs": [
    {
     "data": {
      "text/plain": [
       "0.5585469271907005"
      ]
     },
     "execution_count": 41,
     "metadata": {},
     "output_type": "execute_result"
    }
   ],
   "source": [
    "df1[\"column_2\"].mean()"
   ]
  },
  {
   "cell_type": "code",
   "execution_count": 42,
   "id": "e899b8c5-0e19-414c-bdbf-6d1e9524c49e",
   "metadata": {},
   "outputs": [
    {
     "data": {
      "text/plain": [
       "0.5638652585646174"
      ]
     },
     "execution_count": 42,
     "metadata": {},
     "output_type": "execute_result"
    }
   ],
   "source": [
    "df1[\"column_3\"].mean()"
   ]
  },
  {
   "cell_type": "code",
   "execution_count": 43,
   "id": "34b249d5-76b3-4dff-a0f4-3d2aade6ca6d",
   "metadata": {},
   "outputs": [
    {
     "data": {
      "text/plain": [
       "0.38321527921751847"
      ]
     },
     "execution_count": 43,
     "metadata": {},
     "output_type": "execute_result"
    }
   ],
   "source": [
    "df1[\"column_4\"].mean()"
   ]
  },
  {
   "cell_type": "code",
   "execution_count": 44,
   "id": "776b8a27-25de-4e37-94a4-6259b8d10c9d",
   "metadata": {},
   "outputs": [
    {
     "data": {
      "text/plain": [
       "0.4249121305726659"
      ]
     },
     "execution_count": 44,
     "metadata": {},
     "output_type": "execute_result"
    }
   ],
   "source": [
    "df1[\"column_5\"].mean()"
   ]
  },
  {
   "cell_type": "code",
   "execution_count": 45,
   "id": "6dca09f2-f32e-4603-a9ff-05ba79b2cd7c",
   "metadata": {},
   "outputs": [
    {
     "data": {
      "text/plain": [
       "0.3841255953746767"
      ]
     },
     "execution_count": 45,
     "metadata": {},
     "output_type": "execute_result"
    }
   ],
   "source": [
    "df1[\"column_6\"].mean()"
   ]
  },
  {
   "cell_type": "code",
   "execution_count": 50,
   "id": "e148bd9d-bbc4-4a09-8ef5-1e6358fb1239",
   "metadata": {},
   "outputs": [
    {
     "data": {
      "text/plain": [
       "0.3065307804163659"
      ]
     },
     "execution_count": 50,
     "metadata": {},
     "output_type": "execute_result"
    }
   ],
   "source": [
    "df1[\"column_1\"].std()"
   ]
  },
  {
   "cell_type": "code",
   "execution_count": 48,
   "id": "cadeca5b-2a62-459b-9cca-330a57a6c174",
   "metadata": {},
   "outputs": [
    {
     "data": {
      "text/plain": [
       "0.2334387483952406"
      ]
     },
     "execution_count": 48,
     "metadata": {},
     "output_type": "execute_result"
    }
   ],
   "source": [
    "df1[\"column_2\"].std()"
   ]
  },
  {
   "cell_type": "code",
   "execution_count": 79,
   "id": "fd91a3ea-737c-4870-b386-36fcdd5946c4",
   "metadata": {},
   "outputs": [
    {
     "data": {
      "text/plain": [
       "0.12277957937453074"
      ]
     },
     "execution_count": 79,
     "metadata": {},
     "output_type": "execute_result"
    }
   ],
   "source": [
    "df1[\"column_3\"].std()"
   ]
  },
  {
   "cell_type": "code",
   "execution_count": 13,
   "id": "0c3cc63b-4b7e-4081-a8ff-4b15b77db396",
   "metadata": {},
   "outputs": [
    {
     "data": {
      "text/html": [
       "<div>\n",
       "<style scoped>\n",
       "    .dataframe tbody tr th:only-of-type {\n",
       "        vertical-align: middle;\n",
       "    }\n",
       "\n",
       "    .dataframe tbody tr th {\n",
       "        vertical-align: top;\n",
       "    }\n",
       "\n",
       "    .dataframe thead th {\n",
       "        text-align: right;\n",
       "    }\n",
       "</style>\n",
       "<table border=\"1\" class=\"dataframe\">\n",
       "  <thead>\n",
       "    <tr style=\"text-align: right;\">\n",
       "      <th></th>\n",
       "      <th>column_1</th>\n",
       "      <th>column_2</th>\n",
       "      <th>column_3</th>\n",
       "      <th>column_4</th>\n",
       "      <th>column_5</th>\n",
       "      <th>column_6</th>\n",
       "    </tr>\n",
       "  </thead>\n",
       "  <tbody>\n",
       "    <tr>\n",
       "      <th>1</th>\n",
       "      <td>0.459038</td>\n",
       "      <td>0.833433</td>\n",
       "      <td>0.405285</td>\n",
       "      <td>0.044914</td>\n",
       "      <td>0.468853</td>\n",
       "      <td>0.131233</td>\n",
       "    </tr>\n",
       "    <tr>\n",
       "      <th>2</th>\n",
       "      <td>0.531965</td>\n",
       "      <td>0.557454</td>\n",
       "      <td>0.152979</td>\n",
       "      <td>0.078284</td>\n",
       "      <td>0.386090</td>\n",
       "      <td>0.953473</td>\n",
       "    </tr>\n",
       "    <tr>\n",
       "      <th>3</th>\n",
       "      <td>0.379389</td>\n",
       "      <td>0.830859</td>\n",
       "      <td>0.268149</td>\n",
       "      <td>0.737422</td>\n",
       "      <td>0.102123</td>\n",
       "      <td>0.322998</td>\n",
       "    </tr>\n",
       "    <tr>\n",
       "      <th>4</th>\n",
       "      <td>0.598207</td>\n",
       "      <td>0.129920</td>\n",
       "      <td>0.790049</td>\n",
       "      <td>0.812220</td>\n",
       "      <td>0.531623</td>\n",
       "      <td>0.159538</td>\n",
       "    </tr>\n",
       "    <tr>\n",
       "      <th>5</th>\n",
       "      <td>0.736320</td>\n",
       "      <td>0.602665</td>\n",
       "      <td>0.548307</td>\n",
       "      <td>0.004976</td>\n",
       "      <td>0.651212</td>\n",
       "      <td>0.402308</td>\n",
       "    </tr>\n",
       "    <tr>\n",
       "      <th>6</th>\n",
       "      <td>0.092490</td>\n",
       "      <td>0.542740</td>\n",
       "      <td>0.858069</td>\n",
       "      <td>0.651771</td>\n",
       "      <td>0.504436</td>\n",
       "      <td>0.585850</td>\n",
       "    </tr>\n",
       "  </tbody>\n",
       "</table>\n",
       "</div>"
      ],
      "text/plain": [
       "   column_1  column_2  column_3  column_4  column_5  column_6\n",
       "1  0.459038  0.833433  0.405285  0.044914  0.468853  0.131233\n",
       "2  0.531965  0.557454  0.152979  0.078284  0.386090  0.953473\n",
       "3  0.379389  0.830859  0.268149  0.737422  0.102123  0.322998\n",
       "4  0.598207  0.129920  0.790049  0.812220  0.531623  0.159538\n",
       "5  0.736320  0.602665  0.548307  0.004976  0.651212  0.402308\n",
       "6  0.092490  0.542740  0.858069  0.651771  0.504436  0.585850"
      ]
     },
     "execution_count": 13,
     "metadata": {},
     "output_type": "execute_result"
    }
   ],
   "source": [
    "## Q No. 5 :\n",
    "df1.replace(df1.loc[2,[\"column_2\"]] == 'rahil')"
   ]
  },
  {
   "cell_type": "code",
   "execution_count": 82,
   "id": "12e3d291-e670-4915-81f3-a83dfbc935db",
   "metadata": {},
   "outputs": [
    {
     "data": {
      "text/plain": [
       "'\\nPandas Window functions are functions where the input values are taken from a “window” of one or more rows in a \\nseries or a table and calculation is performed over them. The word window means the number of rows between the \\ntwo boundaries by which we perform calculations including the boundary rows.\\n\\nWindows function in Pandas can be broadly divided into three categories namely- Aggregate, Ranking, and Value.\\nThe group by aggregate function can be used to partition and group the entire data frame by some column. \\nWe can specify the column name in the parameter of the pandas.\\n'"
      ]
     },
     "execution_count": 82,
     "metadata": {},
     "output_type": "execute_result"
    }
   ],
   "source": [
    "## Q No. 6 :\n",
    "'''\n",
    "Pandas Window functions are functions where the input values are taken from a “window” of one or more rows in a \n",
    "series or a table and calculation is performed over them. The word window means the number of rows between the \n",
    "two boundaries by which we perform calculations including the boundary rows.\n",
    "\n",
    "Windows function in Pandas can be broadly divided into three categories namely- Aggregate, Ranking, and Value.\n",
    "The group by aggregate function can be used to partition and group the entire data frame by some column. \n",
    "We can specify the column name in the parameter of the pandas.\n",
    "'''"
   ]
  },
  {
   "cell_type": "code",
   "execution_count": 92,
   "id": "fa2de0e6-2d32-4805-b4e8-e0c6bb3eab0e",
   "metadata": {},
   "outputs": [
    {
     "name": "stdout",
     "output_type": "stream",
     "text": [
      "Current year: 2023\n",
      "Current month: 6\n"
     ]
    }
   ],
   "source": [
    "## Q No. 7 :\n",
    "from datetime import date\n",
    "  \n",
    "# creating the date object of today's date\n",
    "todays_date = date.today()\n",
    "  \n",
    "# fetching the current year, month and day of today\n",
    "print(\"Current year:\", todays_date.year)\n",
    "print(\"Current month:\", todays_date.month)"
   ]
  },
  {
   "cell_type": "code",
   "execution_count": 96,
   "id": "3ed88712-bfdd-434e-beec-28e136882b3e",
   "metadata": {},
   "outputs": [
    {
     "name": "stdin",
     "output_type": "stream",
     "text": [
      "Enter the first date (YYYY-MM-DD):  2023-03-1\n",
      "Enter the second date (YYYY-MM-DD):  2023-05-6\n"
     ]
    },
    {
     "name": "stdout",
     "output_type": "stream",
     "text": [
      "Time difference:\n",
      "Days: 66\n",
      "Hours: 0\n",
      "Minutes: 0\n"
     ]
    }
   ],
   "source": [
    "## Q No. 8 :\n",
    "import pandas as pd\n",
    "\n",
    "# Prompt the user to enter the two dates\n",
    "date1 = input(\"Enter the first date (YYYY-MM-DD): \")\n",
    "date2 = input(\"Enter the second date (YYYY-MM-DD): \")\n",
    "\n",
    "# Convert the input strings to pandas DateTime objects\n",
    "date1 = pd.to_datetime(date1)\n",
    "date2 = pd.to_datetime(date2)\n",
    "\n",
    "# Calculate the time difference using pandas TimeDelta\n",
    "time_diff = date2 - date1\n",
    "\n",
    "# Extract the number of days, hours, and minutes from the time difference\n",
    "days = time_diff.days\n",
    "hours = time_diff.seconds // 3600\n",
    "minutes = (time_diff.seconds % 3600) // 60\n",
    "\n",
    "# Display the result\n",
    "print(\"Time difference:\")\n",
    "print(f\"Days: {days}\")\n",
    "print(f\"Hours: {hours}\")\n",
    "print(f\"Minutes: {minutes}\")"
   ]
  },
  {
   "cell_type": "code",
   "execution_count": null,
   "id": "e5871050-67ef-441f-821a-66942a46988a",
   "metadata": {},
   "outputs": [],
   "source": [
    "## Q No. 9 :\n",
    "import pandas as pd\n",
    "\n",
    "# Prompt the user for file path, column name, and category order\n",
    "file_path = input(\"Enter the CSV file path: \")\n",
    "column_name = input(\"Enter the column name: \")\n",
    "category_order = input(\"Enter the category order (comma-separated values): \").split(\",\")\n",
    "\n",
    "# Read the CSV file\n",
    "data = pd.read_csv(file_path)\n",
    "\n",
    "# Convert the specified column to categorical data type with specified category order\n",
    "data[column_name] = pd.Categorical(data[column_name], categories=category_order, ordered=True)\n",
    "\n",
    "# Sort the data based on the specified column\n",
    "sorted_data = data.sort_values(by=column_name)\n",
    "\n",
    "# Display the sorted data\n",
    "print(sorted_data)"
   ]
  },
  {
   "cell_type": "code",
   "execution_count": null,
   "id": "378e7f3f-68e1-415b-b8c7-455850fe04b8",
   "metadata": {},
   "outputs": [],
   "source": [
    "## Q No. 10 :\n",
    "\n",
    "import pandas as pd\n",
    "import matplotlib.pyplot as plt\n",
    "\n",
    "# Prompt the user for file path\n",
    "file_path = input(\"Enter the CSV file path: \")\n",
    "\n",
    "# Read the CSV file\n",
    "data = pd.read_csv(file_path)\n",
    "\n",
    "# Group the data by product category and sum the sales for each month\n",
    "grouped_data = data.groupby('Product Category')['Sales'].sum()\n",
    "\n",
    "# Reshape the data to have each product category as a separate column\n",
    "pivot_data = grouped_data.unstack()\n",
    "\n",
    "# Plot the stacked bar chart\n",
    "pivot_data.plot(kind='bar', stacked=True)\n",
    "\n",
    "# Set the chart title and labels\n",
    "plt.title('Sales by Product Category')\n",
    "plt.xlabel('Month')\n",
    "plt.ylabel('Sales')\n",
    "\n",
    "# Display the chart\n",
    "plt.show()"
   ]
  },
  {
   "cell_type": "code",
   "execution_count": null,
   "id": "e0f9aa9f-8ad9-436b-927a-1e06d125eaec",
   "metadata": {},
   "outputs": [],
   "source": [
    "## Q No. 11 :\n",
    "import pandas as pd\n",
    "\n",
    "# Prompt the user for the CSV file path\n",
    "file_path = input(\"Enter the CSV file path: \")\n",
    "\n",
    "# Read the CSV file into a pandas DataFrame\n",
    "data = pd.read_csv(file_path)\n",
    "\n",
    "# Extract the test scores from the DataFrame\n",
    "test_scores = data['Test Score']\n",
    "\n",
    "# Calculate the mean, median, and mode of the test scores\n",
    "mean = test_scores.mean()\n",
    "median = test_scores.median()\n",
    "mode = test_scores.mode().values[0]\n",
    "\n",
    "# Create a DataFrame to display the results\n",
    "results = pd.DataFrame({'Statistic': ['Mean', 'Median', 'Mode'],\n",
    "                        'Value': [mean, median, mode]})\n",
    "\n",
    "# Display the results\n",
    "print(results)"
   ]
  }
 ],
 "metadata": {
  "kernelspec": {
   "display_name": "Python 3 (ipykernel)",
   "language": "python",
   "name": "python3"
  },
  "language_info": {
   "codemirror_mode": {
    "name": "ipython",
    "version": 3
   },
   "file_extension": ".py",
   "mimetype": "text/x-python",
   "name": "python",
   "nbconvert_exporter": "python",
   "pygments_lexer": "ipython3",
   "version": "3.10.8"
  }
 },
 "nbformat": 4,
 "nbformat_minor": 5
}
